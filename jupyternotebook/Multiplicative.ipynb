{
 "cells": [
  {
   "cell_type": "code",
   "execution_count": null,
   "id": "c0a8edc4",
   "metadata": {},
   "outputs": [],
   "source": [
    "import numpy as np\n",
    "import pandas as pd\n",
    "import statsmodels.api as sm\n",
    "import pyreadstat  ##conda install conda-forge::pyreadstat\n",
    "import matplotlib.pyplot as plt\n",
    "import seaborn as sns"
   ]
  },
  {
   "cell_type": "code",
   "execution_count": null,
   "id": "14a286d3",
   "metadata": {},
   "outputs": [],
   "source": [
    "#----------------------------------\n",
    "# Mass appraisal functions\n",
    "#----------------------------------\n",
    "\n",
    "def weightedMean(pred, sp):\n",
    "    '''\n",
    "    Returns the weighted mean ratio\n",
    "    \n",
    "        Parameters:\n",
    "            pred (pandas.Series): Series of predicted values\n",
    "            sp   (pandas.Series): Series of sale prices\n",
    "            \n",
    "        Returns:\n",
    "            weighted mean (numpy.float64): Weighted mean ratio\n",
    "            \n",
    "    '''\n",
    "    return pred.sum() / sp.sum()\n",
    "\n",
    "def averageDeviation(pred, sp):\n",
    "    '''\n",
    "    Returns the average deviation\n",
    "    \n",
    "        Parameters:\n",
    "            pred (pandas.Series): Series of predicted values\n",
    "            sp   (pandas.Series): Series of sale prices\n",
    "            \n",
    "        Returns:\n",
    "            average deviation (numpy.float64): Average difference between each value\n",
    "            \n",
    "    '''\n",
    "    medianRatio = (pred / sp).median()\n",
    "    return ((pred / sp) - medianRatio).abs().sum() / len(sp) \n",
    "\n",
    "def COD(pred, sp):\n",
    "    '''\n",
    "    Returns the coefficient of dispersion\n",
    "    \n",
    "        Parameters:\n",
    "            pred (pandas.Series): Series of predicted values\n",
    "            sp   (pandas.Series): Series of sale prices\n",
    "            \n",
    "        Returns:\n",
    "            coefficient of dispersion (numpy.float64): Average deviation as a percentage\n",
    "            \n",
    "    '''\n",
    "    medianRatio = (pred / sp).median()\n",
    "    return (100.00 * averageDeviation(pred, sp)) / medianRatio\n",
    "\n",
    "def PRD(pred, sp):\n",
    "    '''\n",
    "    Returns the price related differential\n",
    "    \n",
    "        Parameters:\n",
    "            pred (pandas.Series): Series of predicted values\n",
    "            sp   (pandas.Series): Series of sale prices\n",
    "            \n",
    "        Returns:\n",
    "            price related differential (numpy.float64): Statistic for measuring assessment regressivity\n",
    "            \n",
    "    '''\n",
    "    meanRatio = (pred / sp).mean()\n",
    "    return meanRatio / weightedMean(pred, sp)\n",
    "\n",
    "def PRB(pred, sp, showGraph=False):\n",
    "    '''\n",
    "    Returns the price related bias\n",
    "    \n",
    "        Parameters:\n",
    "            pred (pandas.Series): Series of predicted values\n",
    "            sp   (pandas.Series): Series of sale prices\n",
    "            \n",
    "        Returns:\n",
    "            price related bias results (dict): Dictionary containing the PRB statistic and it's significance\n",
    "            \n",
    "    '''\n",
    "    RATIO = pred / sp\n",
    "    medianRatio = (RATIO).median()\n",
    "    VALUE = (0.50 * sp) + (0.50 * pred / pred.median())\n",
    "    LN_VALUE = np.log(VALUE) / np.log(2)\n",
    "    PCT_DIFF = (RATIO - medianRatio) / medianRatio\n",
    "    modelData = sm.add_constant(LN_VALUE)\n",
    "    model = sm.OLS(PCT_DIFF, modelData).fit()\n",
    "    if showGraph:\n",
    "        p = sns.lmplot(x='LN_VALUE', y='PCT_DIFF', data = pd.DataFrame.from_dict({\"LN_VALUE\" : LN_VALUE, \"PCT_DIFF\" : PCT_DIFF}), lowess = True, line_kws={'color': 'red'})\n",
    "        p.fig.set_figwidth(10)\n",
    "        p.fig.set_figheight(6)\n",
    "        p.ax.ticklabel_format(useOffset=False)\n",
    "    return {\"PRB\" : model.params[0], \"Sig\" : model.pvalues[0]}\n"
   ]
  },
  {
   "cell_type": "code",
   "execution_count": null,
   "id": "82a8d741",
   "metadata": {},
   "outputs": [],
   "source": [
    "def addContinuous(df, series, columnName):\n",
    "    if (series.eq(0).any()):\n",
    "        s = pd.Series(np.log(series + 1), name = columnName)\n",
    "    else:\n",
    "        s = pd.Series(np.log(series), name = columnName)\n",
    "    return pd.concat([df, s], axis = 1)\n",
    "\n",
    "def addBinaries(df, categorical, base, prefix, minSales = 0):\n",
    "    cols = pd.get_dummies(categorical, prefix = prefix).astype(float)\n",
    "    cols.drop(base, axis = 1, inplace = True)\n",
    "    for x in cols:\n",
    "        if len(cols.loc[cols[x] == 1, x]) < minSales:\n",
    "            print(\"Insufficent Sales: \" + x)\n",
    "            cols.drop(x, axis = 1, inplace = True)\n",
    "           \n",
    "    return pd.concat([df, cols], axis = 1)\n",
    "\n",
    "# This function dynamically builds a prediction statement\n",
    "# from the model parameters.  A const param entry is expected.\n",
    "def estimateParcelValue(predData, modelParams):\n",
    "    s = \"lambda x: \" + str(modelParams['const'])\n",
    "    \n",
    "    for i,c in modelParams.drop('const').items():\n",
    "        s += \" + (\" + str(c) + \" * x['\" + str(i) + \"'])\" \n",
    "    \n",
    "    f = eval(s)\n",
    "    return np.exp(predData.apply(f, axis = 1)).round(0)\n",
    "\n",
    "# Calculates model coverage by parameters\n",
    "# with optional grouping\n",
    "def getParameterCoverage(df):\n",
    "    results = pd.Series(name = 'ParameterCoverage')\n",
    "    \n",
    "    for col in df.columns:\n",
    "        if len(df[col].value_counts()) == 2:\n",
    "            #It's a Binary\n",
    "            results[col] = len(df[df[col] == 1])                \n",
    "        else:\n",
    "            #It's Continuous\n",
    "            results[col] = len(df[df[col] != 0])\n",
    "                \n",
    "    return results"
   ]
  },
  {
   "cell_type": "code",
   "execution_count": null,
   "id": "5f2b297b",
   "metadata": {},
   "outputs": [],
   "source": [
    "data = pd.read_spss('..\\\\SPSS\\\\Data\\\\GISValTechSampleData.sav')\n",
    "data['ParcelId'] = data['ParcelId'].astype(int)\n",
    "data['SaleDate'] = pd.to_datetime(data['SaleDate'])\n",
    "data['SalesPrice'] = data['SalesPrice'].astype(int)\n",
    "data['Sqft'] = data['Sqft'].astype(int)\n",
    "data['LandSize'] = data['LandSize'].astype(int)\n",
    "data['Quality'] = pd.Categorical(data['Quality'], ordered = True, categories = [\n",
    "    'Poor', 'BelowAverage', 'Average', 'AboveAverage', 'Superior'])\n",
    "data['GarageSize'] = data['GarageSize'].astype(int)\n",
    "data['EffAge'] = data['EffAge'].astype(int)\n",
    "data['NBHD'] = pd.Categorical(data['NBHD'].astype(int))\n",
    "\n",
    "data.set_index('ParcelId', inplace = True)\n",
    "data.head()\n",
    "data.dtypes"
   ]
  },
  {
   "cell_type": "code",
   "execution_count": null,
   "id": "de63798b",
   "metadata": {},
   "outputs": [],
   "source": [
    "data['SPPSF'] = data['SalesPrice'] / data['Sqft']\n",
    "data.groupby(['Quality'], observed = True)['SPPSF'].describe()\n",
    "#data.groupby(['Quality'], observed = True)['SPPSF'].aggregate(['count', 'mean', 'median', 'std' ])"
   ]
  },
  {
   "cell_type": "code",
   "execution_count": null,
   "id": "d9286e4a",
   "metadata": {},
   "outputs": [],
   "source": [
    "data.groupby(['NBHD'], observed = True)['SPPSF'].aggregate(['count', 'mean', 'median', 'std' ])"
   ]
  },
  {
   "cell_type": "code",
   "execution_count": null,
   "id": "d2b365ce-4ae3-4785-b1b6-459b51d9c101",
   "metadata": {},
   "outputs": [],
   "source": [
    "data['SYEAR'] = data['SaleDate'].dt.year\n",
    "data['SMONTH'] = data['SaleDate'].dt.month\n",
    "data['SDATE'] = data['SaleDate'].dt.to_period('M').dt.to_timestamp()\n",
    "pd.crosstab(data['SYEAR'], data['SMONTH'])"
   ]
  },
  {
   "cell_type": "code",
   "execution_count": null,
   "id": "7d807f6e",
   "metadata": {},
   "outputs": [],
   "source": [
    "startdate = pd.to_datetime('1/1/2023')\n",
    "basedate = pd.to_datetime('12/31/2023')\n",
    "timeperiod = (basedate.to_period('M') - startdate.to_period('M')).n\n",
    "timeperiod"
   ]
  },
  {
   "cell_type": "code",
   "execution_count": null,
   "id": "ed44ac57",
   "metadata": {},
   "outputs": [],
   "source": [
    "data['Months'] = [(x - startdate.to_period('M')).n for x in data['SaleDate'].dt.to_period('M')]\n",
    "data['Month'] = timeperiod - data['Months']\n",
    "data.head()\n"
   ]
  },
  {
   "cell_type": "code",
   "execution_count": null,
   "id": "6b78ccfa",
   "metadata": {},
   "outputs": [],
   "source": [
    "def calculatePctGood(effAge):\n",
    "    if effAge < 0:\n",
    "        effAge = 0\n",
    "    elif effAge > 60:\n",
    "        effAge = 60    \n",
    "    return round(1 - (effAge / 100), 2)\n",
    "        \n",
    "    \n",
    "data['Pct_Good'] = [calculatePctGood(x) for x in data['EffAge']]\n",
    "data[['EffAge', 'Pct_Good']].head()\n",
    "    "
   ]
  },
  {
   "cell_type": "code",
   "execution_count": null,
   "id": "95b6c215",
   "metadata": {},
   "outputs": [],
   "source": [
    "modelData = pd.DataFrame({\"LN_SalesPrice\" : np.log(data['SalesPrice']), \"const\" : 1})\n",
    "modelData = pd.concat([modelData, data['Months']], axis = 1 )\n",
    "modelData = addContinuous(modelData, data['Sqft'], 'LN_Sqft')\n",
    "modelData = addContinuous(modelData, data['LandSize'], 'LN_LandSize')\n",
    "modelData = addBinaries(modelData, data['Quality'], 'Quality_Average', 'Quality', minSales = 6)\n",
    "modelData = addContinuous(modelData, data['Bathrooms'], 'LN_Bathrooms')\n",
    "modelData = addContinuous(modelData, data['Pct_Good'], 'LN_Pct_Good')\n",
    "modelData = addContinuous(modelData, data['GarageSize'], 'LN_GarageSize')\n",
    "#modelData = addContinuous(modelData, data['GarageSize'] / 480, 'LN_GarageSize_Ratio')\n",
    "modelData = addBinaries(modelData, data['NBHD'], 'NBHD_103', 'NBHD', minSales = 6)\n",
    "modelData"
   ]
  },
  {
   "cell_type": "code",
   "execution_count": null,
   "id": "738abc56",
   "metadata": {},
   "outputs": [],
   "source": [
    "# This assumes dependent variable is in the first column\n",
    "while True:\n",
    "    model = sm.OLS(\n",
    "        modelData.iloc[:, 0],\n",
    "        modelData.drop(modelData.columns[0], axis = 1)\n",
    "    ).fit()\n",
    "    ix = model.pvalues[model.pvalues.index != 'const'].idxmax()\n",
    "    if(model.pvalues[ix] <= .05):\n",
    "        break\n",
    "    else:\n",
    "        print(\"Dropping {0} p-value: {1} \".format(str(ix), model.pvalues[ix].round(3)))\n",
    "        modelData.drop(columns = ix, inplace = True)\n",
    "\n",
    "model.summary()"
   ]
  },
  {
   "cell_type": "code",
   "execution_count": null,
   "id": "0d21872d-0c9c-4297-a976-f194ec6ece86",
   "metadata": {},
   "outputs": [],
   "source": [
    "# show all methods and functions of an object\n",
    "dir(model)"
   ]
  },
  {
   "cell_type": "code",
   "execution_count": null,
   "id": "1a1c0e82",
   "metadata": {},
   "outputs": [],
   "source": [
    "model.params"
   ]
  },
  {
   "cell_type": "code",
   "execution_count": null,
   "id": "6f87d5ec-cc6d-44ae-99bb-23eec4906556",
   "metadata": {},
   "outputs": [],
   "source": [
    "model.bse"
   ]
  },
  {
   "cell_type": "code",
   "execution_count": null,
   "id": "d2f96814",
   "metadata": {},
   "outputs": [],
   "source": [
    "getParameterCoverage(modelData)"
   ]
  },
  {
   "cell_type": "code",
   "execution_count": null,
   "id": "66f3f64b",
   "metadata": {},
   "outputs": [],
   "source": [
    "data['ESP'] = estimateParcelValue(modelData, model.params ).astype(int)\n",
    "data['Ratio'] = round((data['ESP'] / data['SalesPrice']), 2)\n",
    "data.head()"
   ]
  },
  {
   "cell_type": "code",
   "execution_count": null,
   "id": "a556a526-fe04-4210-85d5-84efc1814de5",
   "metadata": {},
   "outputs": [],
   "source": [
    "PRB(data['ESP'], data['SalesPrice'], showGraph = True)"
   ]
  },
  {
   "cell_type": "code",
   "execution_count": null,
   "id": "7d1260ee-c44a-45cf-9a87-c896d3c5ae34",
   "metadata": {},
   "outputs": [],
   "source": [
    "stats = pd.DataFrame(columns = ['Count', 'Mean', 'Median', 'WgtMean', 'Min', 'Max', 'PRD', 'COD'])\n",
    "for name, gData in data.groupby(by='NBHD', observed = True):\n",
    "    stats.loc[name] = [\n",
    "        len(gData.index),\n",
    "        '%0.2f' % gData['Ratio'].mean(),\n",
    "        '%0.2f' % gData['Ratio'].median(),\n",
    "        '%0.2f' % weightedMean(gData['ESP'], gData['SalesPrice']),\n",
    "        gData['Ratio'].min(),\n",
    "        gData['Ratio'].max(),\n",
    "        '%0.2f' % PRD(gData['ESP'], gData['SalesPrice']),\n",
    "        '%0.2f' % COD(gData['ESP'], gData['SalesPrice'])\n",
    "    ]\n",
    "\n",
    "stats"
   ]
  },
  {
   "cell_type": "code",
   "execution_count": null,
   "id": "f06b6d49-3206-4152-841f-423a5c25eaa1",
   "metadata": {},
   "outputs": [],
   "source": [
    "stats = pd.DataFrame(columns = ['Count', 'Mean', 'Median', 'WgtMean', 'Min', 'Max', 'PRD', 'COD'])\n",
    "for name, gData in data.groupby(by='SDATE', observed = True):\n",
    "    stats.loc[name.strftime('%b %Y')] = [\n",
    "        len(gData.index),\n",
    "        '%0.2f' % gData['Ratio'].mean(),\n",
    "        '%0.2f' % gData['Ratio'].median(),\n",
    "        '%0.2f' % weightedMean(gData['ESP'], gData['SalesPrice']),\n",
    "        gData['Ratio'].min(),\n",
    "        gData['Ratio'].max(),\n",
    "        '%0.2f' % PRD(gData['ESP'], gData['SalesPrice']),\n",
    "        '%0.2f' % COD(gData['ESP'], gData['SalesPrice'])\n",
    "    ]\n",
    "\n",
    "stats"
   ]
  },
  {
   "cell_type": "code",
   "execution_count": null,
   "id": "07059a6a-20e2-4440-b6eb-922e691a19c2",
   "metadata": {},
   "outputs": [],
   "source": [
    "p = sns.lmplot(x='Months', y='Ratio', data = data, lowess = True, line_kws={'color': 'red'})\n",
    "p.fig.set_figwidth(8)\n",
    "p.fig.set_figheight(4)\n",
    "p.ax.set_title(\"Ratio by SaleDate\")\n",
    "p.ax.ticklabel_format(useOffset=False)\n",
    "label = [x.strftime('%b %Y') for x in data.sort_values(by='SaleDate')[\"SDATE\"].unique()]\n",
    "p.ax.set_xticks(range(len(label)), labels=label)\n",
    "p.ax.tick_params(axis=\"x\", labelrotation=45)\n",
    "plt.axhline(y=1.00, color = 'black')"
   ]
  },
  {
   "cell_type": "code",
   "execution_count": null,
   "id": "c5586cb8-4f3e-48f2-bbd8-5073c3fb15c7",
   "metadata": {},
   "outputs": [],
   "source": [
    "p = sns.lmplot(x='Sqft', y='Ratio', data = data, lowess = True, line_kws={'color': 'red'})\n",
    "p.fig.set_figwidth(8)\n",
    "p.fig.set_figheight(4)\n",
    "p.ax.set_title(\"Ratio by Sqft\")\n",
    "p.ax.ticklabel_format(useOffset=False)\n",
    "plt.axhline(y=1.00, color = 'black')"
   ]
  },
  {
   "cell_type": "code",
   "execution_count": null,
   "id": "c1ac8103-1b10-410d-9ef7-c297deb54413",
   "metadata": {},
   "outputs": [],
   "source": [
    "p = sns.lmplot(x='LandSize', y='Ratio', data = data, lowess = True, line_kws={'color': 'red'})\n",
    "p.fig.set_figwidth(8)\n",
    "p.fig.set_figheight(4)\n",
    "p.ax.set_title(\"Ratio by LandSize\")\n",
    "p.ax.ticklabel_format(useOffset=False)\n",
    "plt.axhline(y=1.00, color = 'black')"
   ]
  },
  {
   "cell_type": "code",
   "execution_count": null,
   "id": "9092573c-5e74-4801-a9ff-af7fcc0125a8",
   "metadata": {},
   "outputs": [],
   "source": [
    "p = sns.lmplot(x='EffAge', y='Ratio', data = data, lowess = True, line_kws={'color': 'red'})\n",
    "p.fig.set_figwidth(8)\n",
    "p.fig.set_figheight(4)\n",
    "p.ax.set_title(\"Ratio by EffAge\")\n",
    "p.ax.ticklabel_format(useOffset=False)\n",
    "plt.axhline(y=1.00, color = 'black')"
   ]
  },
  {
   "cell_type": "code",
   "execution_count": null,
   "id": "48d9e775-5272-417a-8442-92690eb78286",
   "metadata": {},
   "outputs": [],
   "source": [
    "p = sns.lmplot(x='Bathrooms', y='Ratio', data = data, lowess = True, line_kws={'color': 'red'})\n",
    "p.fig.set_figwidth(8)\n",
    "p.fig.set_figheight(4)\n",
    "p.ax.set_title(\"Ratio by Bathrooms\")\n",
    "p.ax.ticklabel_format(useOffset=False)\n",
    "plt.axhline(y=1.00, color = 'black')"
   ]
  },
  {
   "cell_type": "code",
   "execution_count": null,
   "id": "bef0fd9c-d8a7-4b0d-9ff1-dbdaf0caf533",
   "metadata": {},
   "outputs": [],
   "source": [
    "p = sns.lmplot(x='GarageSize', y='Ratio', data = data, lowess = True, line_kws={'color': 'red'})\n",
    "p.fig.set_figwidth(8)\n",
    "p.fig.set_figheight(4)\n",
    "p.ax.set_title(\"Ratio by GarageSize\")\n",
    "p.ax.ticklabel_format(useOffset=False)\n",
    "plt.axhline(y=1.00, color = 'black')"
   ]
  },
  {
   "cell_type": "code",
   "execution_count": null,
   "id": "db0d08ea-438a-4bb1-9357-efd76fd7646f",
   "metadata": {},
   "outputs": [],
   "source": [
    "data.groupby('Quality', observed=True)['Ratio'].describe()"
   ]
  },
  {
   "cell_type": "code",
   "execution_count": null,
   "id": "f4b0b2fe-5007-4615-a54b-fa38494baf50",
   "metadata": {},
   "outputs": [],
   "source": [
    "data.loc[(data['Ratio'] >= 1.5) | (data['Ratio'] <= .65), ]"
   ]
  },
  {
   "cell_type": "code",
   "execution_count": null,
   "id": "0574dd59-0975-42e2-828f-57ed3cf7cae9",
   "metadata": {},
   "outputs": [],
   "source": [
    "data.loc[(data['Ratio'] >= 1.5) | (data['Ratio'] <= .65), ].to_excel('.\\\\reports\\\\multiplicativebadratio.xlsx')"
   ]
  },
  {
   "cell_type": "code",
   "execution_count": null,
   "id": "88065fc7-d3ee-44e9-ba46-5faa9f8d9662",
   "metadata": {},
   "outputs": [],
   "source": []
  }
 ],
 "metadata": {
  "kernelspec": {
   "display_name": "Python 3 (ipykernel)",
   "language": "python",
   "name": "python3"
  },
  "language_info": {
   "codemirror_mode": {
    "name": "ipython",
    "version": 3
   },
   "file_extension": ".py",
   "mimetype": "text/x-python",
   "name": "python",
   "nbconvert_exporter": "python",
   "pygments_lexer": "ipython3",
   "version": "3.11.7"
  }
 },
 "nbformat": 4,
 "nbformat_minor": 5
}
