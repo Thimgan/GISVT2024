{
 "cells": [
  {
   "cell_type": "markdown",
   "id": "42314627-cbc2-4044-8f4a-6315ff93f0b3",
   "metadata": {},
   "source": [
    "\n",
    "This notebook is derived from a larger tutorial called <b>'Python Programming for Economics and Finance'</b><br>\n",
    "by Thomas J. Sargent and John Stachurski\n",
    "\n",
    "The full tutorial is available at https://python-programming.quantecon.org/pandas.html\n",
    "\n",
    "<a href=\"https://pandas.pydata.org/pandas-docs/stable/reference/index.html\">Pandas API reference</a>"
   ]
  },
  {
   "cell_type": "code",
   "execution_count": null,
   "id": "78a537b2-1284-4fb5-9167-2194724efe64",
   "metadata": {},
   "outputs": [],
   "source": [
    "import numpy as np\n",
    "import pandas as pd\n",
    "from datetime import date"
   ]
  },
  {
   "cell_type": "markdown",
   "id": "9014da5d-811f-4ff5-ba90-953423bddf9a",
   "metadata": {},
   "source": [
    "Two important data types defined by pandas are Series and DataFrame.\n",
    "\n",
    "You can think of a Series as a “column” of data, such as a collection of observations on a single variable of the same type.\n",
    "\n",
    "A DataFrame is a two-dimensional object for storing related columns of data (a collection of series objects)."
   ]
  },
  {
   "cell_type": "markdown",
   "id": "b2b5045d-6640-4aa4-a942-61ae111ce66c",
   "metadata": {},
   "source": [
    "<h1>Series</h1>\n",
    "\n",
    "We begin by creating a series of four random observations"
   ]
  },
  {
   "cell_type": "code",
   "execution_count": null,
   "id": "0588cb6f-3697-4d8b-ab3c-2048c9b41a75",
   "metadata": {},
   "outputs": [],
   "source": [
    "s = pd.Series(np.random.randn(4), name='daily stock returns')\n",
    "s"
   ]
  },
  {
   "cell_type": "markdown",
   "id": "eca74e38-e8ef-48a3-8d42-058b6d60ea41",
   "metadata": {},
   "source": [
    "Here you can imagine the indices <b>0, 1, 2, 3</b> as indexing four listed companies, and the values being daily returns on their shares.\n",
    "\n",
    "Pandas Series are built on top of NumPy arrays and support many similar operations"
   ]
  },
  {
   "cell_type": "code",
   "execution_count": null,
   "id": "86751ba2-d701-48db-b08a-7a9c641f05ec",
   "metadata": {},
   "outputs": [],
   "source": [
    "s * 100"
   ]
  },
  {
   "cell_type": "code",
   "execution_count": null,
   "id": "a47dcb05-d71d-4825-9297-614eb1fbce1f",
   "metadata": {},
   "outputs": [],
   "source": [
    "np.abs(s)"
   ]
  },
  {
   "cell_type": "code",
   "execution_count": null,
   "id": "e5894c5a-e9ad-47c1-91c4-5e10642eda90",
   "metadata": {},
   "outputs": [],
   "source": [
    "s.describe()"
   ]
  },
  {
   "cell_type": "code",
   "execution_count": null,
   "id": "adcb9c01-b4a8-45b8-a2d9-724b64ba5f10",
   "metadata": {},
   "outputs": [],
   "source": [
    "s.index = ['AMZN', 'AAPL', 'MSFT', 'GOOG']\n",
    "s"
   ]
  },
  {
   "cell_type": "code",
   "execution_count": null,
   "id": "be71a266-a9ae-46ce-8d4e-88311ebb1125",
   "metadata": {},
   "outputs": [],
   "source": [
    "s['AMZN']"
   ]
  },
  {
   "cell_type": "code",
   "execution_count": null,
   "id": "f5a3df1d-b6f7-4740-9b2b-4cdbb8178c4f",
   "metadata": {},
   "outputs": [],
   "source": [
    "s['AMZN'] = 0\n",
    "s"
   ]
  },
  {
   "cell_type": "code",
   "execution_count": null,
   "id": "45b1ba79-0fa6-4188-9377-37a097bf739a",
   "metadata": {},
   "outputs": [],
   "source": [
    "'AAPL' in s"
   ]
  },
  {
   "cell_type": "markdown",
   "id": "d6466dcd-6c8b-4008-ab0d-7ed50123bbdf",
   "metadata": {},
   "source": [
    "<h1>DataFrames</h1>\n",
    "While a Series is a single column of data, a DataFrame is several columns, one for each variable.\n",
    "\n",
    "In essence, a DataFrame in pandas is analogous to a (highly optimized) Excel spreadsheet.\n",
    "\n",
    "Thus, it is a powerful tool for representing and analyzing data that are naturally organized into rows and columns, often with descriptive indexes for individual rows and individual columns.\n",
    "\n",
    "Let’s look at an example that reads data from the CSV file CountryData.csv.\n",
    "\n",
    "The dataset contains the following indicators\n",
    "\n",
    "<table style=\"border: 1px solid; text-align: center;\">\n",
    "    <tr><th style=\"border: 1px solid\"><b>Variable Name</b></th><th style=\"border: 1px solid; text-align: center;\"><b>Description</b></th></tr>\n",
    "    <tr><td style=\"border: 1px solid\">POP</td><td style=\"border: 1px solid\">Population (in thousands)</td></tr>\n",
    "    <tr><td style=\"border: 1px solid\">XRAT</td><td style=\"border: 1px solid\">Exchange Rate to US Dollar</td></tr>\n",
    "    <tr><td style=\"border: 1px solid\">tcgdp</td><td style=\"border: 1px solid\">Total PPP Converted GDP (in million international dollar)</td></tr>\n",
    "    <tr><td style=\"border: 1px solid\">cc</td><td style=\"border: 1px solid\">Consumption Share of PPP Converted GDP Per Capita (%)</td></tr>\n",
    "    <tr><td style=\"border: 1px solid\">cq</td><td style=\"border: 1px solid\">Government Consumption Share of PPP Converted GDP Per Capita (%)</td></tr>    \n",
    "</table>\n",
    "\n",
    "We’ll read this in from a URL using the pandas function read_csv."
   ]
  },
  {
   "cell_type": "code",
   "execution_count": null,
   "id": "66fe3a92-b2c6-41dc-8ac4-99855acdeafb",
   "metadata": {},
   "outputs": [],
   "source": [
    "df = pd.read_csv('..//datafiles//CountryData.csv')\n",
    "type(df)"
   ]
  },
  {
   "cell_type": "code",
   "execution_count": null,
   "id": "52bddc60-c116-4cc1-833a-8ecd64450c5d",
   "metadata": {},
   "outputs": [],
   "source": [
    "df"
   ]
  },
  {
   "cell_type": "markdown",
   "id": "f0697844-fc08-4782-b0ba-f3d8f4c617aa",
   "metadata": {},
   "source": [
    "<h4>Select Data by Position</h4>\n",
    "In practice, one thing that we do all the time is to find, select and work with a subset of the data of our interests.\n",
    "\n",
    "We can select particular rows using standard Python array slicing notation"
   ]
  },
  {
   "cell_type": "code",
   "execution_count": null,
   "id": "45a159a6-e9b0-4e58-8852-d9fc65f2f107",
   "metadata": {},
   "outputs": [],
   "source": [
    "df[2:5]"
   ]
  },
  {
   "cell_type": "markdown",
   "id": "6e8caa56-a22d-4005-8a39-6a361078ce3b",
   "metadata": {},
   "source": [
    "To select columns, we can pass a list containing the names of the desired columns represented as strings"
   ]
  },
  {
   "cell_type": "code",
   "execution_count": null,
   "id": "ca91a34e-2289-4293-bb14-d11edd9d3cf4",
   "metadata": {},
   "outputs": [],
   "source": [
    "df[['country', 'tcgdp']]"
   ]
  },
  {
   "cell_type": "markdown",
   "id": "a46a20df-f186-4b18-ab07-f11a31a80439",
   "metadata": {},
   "source": [
    "To select both rows and columns using integers, the iloc attribute should be used with the format .iloc[rows, columns]."
   ]
  },
  {
   "cell_type": "code",
   "execution_count": null,
   "id": "08a2fa1e-a859-4bf1-b19b-de6ad83d486e",
   "metadata": {},
   "outputs": [],
   "source": [
    "df.iloc[2:5, 0:4]"
   ]
  },
  {
   "cell_type": "markdown",
   "id": "d55e9075-4c9c-4422-836a-a77ab1749965",
   "metadata": {},
   "source": [
    "To select rows and columns using a mixture of integers and labels, the loc attribute can be used in a similar way"
   ]
  },
  {
   "cell_type": "code",
   "execution_count": null,
   "id": "f543950a-bfd9-48b4-9eb7-a76da2d4eee6",
   "metadata": {},
   "outputs": [],
   "source": [
    "df.loc[df.index[2:5], ['country', 'tcgdp']]"
   ]
  },
  {
   "cell_type": "markdown",
   "id": "c70b1984-fb8a-4f51-afa8-4411a00c8a4e",
   "metadata": {},
   "source": [
    "<h4>Select Data by Conditions</h4>\n",
    "Instead of indexing rows and columns using integers and names, we can also obtain a sub-dataframe of our interests that satisfies certain (potentially complicated) conditions.\n",
    "\n",
    "This section demonstrates various ways to do that.\n",
    "\n",
    "The most straightforward way is with the [] operator."
   ]
  },
  {
   "cell_type": "code",
   "execution_count": null,
   "id": "278b0646-985b-4dea-b44d-ac96e4c87d77",
   "metadata": {},
   "outputs": [],
   "source": [
    "df[df.POP >= 20000]"
   ]
  },
  {
   "cell_type": "markdown",
   "id": "e46fceb4-bb75-4675-bb18-73c1547ed232",
   "metadata": {},
   "source": [
    "To understand what is going on here, notice that df.POP >= 20000 returns a series of boolean values."
   ]
  },
  {
   "cell_type": "code",
   "execution_count": null,
   "id": "b68887c4-8b76-47e9-be09-c3586baf1d6f",
   "metadata": {},
   "outputs": [],
   "source": [
    "df.POP >= 20000"
   ]
  },
  {
   "cell_type": "markdown",
   "id": "7dddf6ca-1597-47f9-a42c-4f9792b44c30",
   "metadata": {},
   "source": [
    "In this case, df[___] takes a series of boolean values and only returns rows with the True values.\n",
    "\n",
    "Take one more example,"
   ]
  },
  {
   "cell_type": "code",
   "execution_count": null,
   "id": "85fff7a9-797d-4beb-892b-ef8437d8ef9a",
   "metadata": {},
   "outputs": [],
   "source": [
    "df[(df.country.isin(['Argentina', 'India', 'South Africa'])) & (df.POP > 40000)]"
   ]
  },
  {
   "cell_type": "markdown",
   "id": "aa37c39e-8a41-402b-b5d4-f6d506dc1bce",
   "metadata": {},
   "source": [
    "However, there is another way of doing the same thing, which can be slightly faster for large dataframes, with more natural syntax."
   ]
  },
  {
   "cell_type": "code",
   "execution_count": null,
   "id": "b77b5143-c6ce-47ba-8b9e-5acddf08fb43",
   "metadata": {},
   "outputs": [],
   "source": [
    "df.query(\"POP >= 20000\")"
   ]
  },
  {
   "cell_type": "code",
   "execution_count": null,
   "id": "272e1acd-0505-4975-a274-58a4bb7922dc",
   "metadata": {},
   "outputs": [],
   "source": [
    "df.query(\"country in ['Argentina', 'India', 'South Africa'] and POP > 40000\")"
   ]
  },
  {
   "cell_type": "markdown",
   "id": "c3f5568a-43ce-4bcf-9f0f-dcfbc1ba31a9",
   "metadata": {},
   "source": [
    "We can also allow arithmetic operations between different columns."
   ]
  },
  {
   "cell_type": "code",
   "execution_count": null,
   "id": "dd8d6482-e5f6-4a2f-908d-51fba328fae8",
   "metadata": {},
   "outputs": [],
   "source": [
    "df[(df.cc + df.cg >= 80) & (df.POP <= 20000)]"
   ]
  },
  {
   "cell_type": "code",
   "execution_count": null,
   "id": "bd0c58f7-5b92-4a7c-8936-b2a89df72c5e",
   "metadata": {},
   "outputs": [],
   "source": [
    "# the above is equivalent to \n",
    "df.query(\"cc + cg >= 80 & POP <= 20000\")"
   ]
  },
  {
   "cell_type": "markdown",
   "id": "8a680ca5-fc8e-47a2-bc2f-6a4766c94225",
   "metadata": {},
   "source": [
    "For example, we can use the conditioning to select the country with the largest household consumption - gdp share cc."
   ]
  },
  {
   "cell_type": "code",
   "execution_count": null,
   "id": "495cec3f-928d-44d8-9a24-e3483deed766",
   "metadata": {},
   "outputs": [],
   "source": [
    "df.loc[df.cc == max(df.cc)]"
   ]
  },
  {
   "cell_type": "markdown",
   "id": "a288ea3d-5837-45b8-9d21-877556970e6a",
   "metadata": {},
   "source": [
    "When we only want to look at certain columns of a selected sub-dataframe, we can use the above conditions with the .loc[__ , __] command.\n",
    "\n",
    "The first argument takes the condition, while the second argument takes a list of columns we want to return."
   ]
  },
  {
   "cell_type": "code",
   "execution_count": null,
   "id": "c2dbed12-7227-49b0-aa8f-1e1056deae1c",
   "metadata": {},
   "outputs": [],
   "source": [
    "df.loc[(df.cc + df.cg >= 80) & (df.POP <= 20000), ['country', 'year', 'POP']]"
   ]
  },
  {
   "cell_type": "markdown",
   "id": "7a422b20-9283-4415-8e65-dc7846b677f9",
   "metadata": {},
   "source": [
    "<h4>Subsetting Dataframe</h4>\n",
    "\n",
    "Real-world datasets can be enormous.\n",
    "\n",
    "It is sometimes desirable to work with a subset of data to enhance computational efficiency and reduce redundancy.\n",
    "\n",
    "Let’s imagine that we’re only interested in the population (POP) and total GDP (tcgdp).\n",
    "\n",
    "One way to strip the data frame df down to only these variables is to overwrite the dataframe using the selection method described above"
   ]
  },
  {
   "cell_type": "code",
   "execution_count": null,
   "id": "a593d76b-1507-4682-91cc-0be4badd7889",
   "metadata": {},
   "outputs": [],
   "source": [
    "df_subset = df[['country', 'POP', 'tcgdp']]\n",
    "df_subset"
   ]
  },
  {
   "cell_type": "markdown",
   "id": "659fdf46-f986-4f03-8899-89aa85a6d612",
   "metadata": {},
   "source": [
    "We can then save the smaller dataset for further analysis."
   ]
  },
  {
   "cell_type": "code",
   "execution_count": null,
   "id": "2c0bd21b-5824-4fd0-adbd-593af655cdd6",
   "metadata": {},
   "outputs": [],
   "source": [
    "df_subset.to_csv('../datafiles/Countrysubset.csv', index=False)"
   ]
  },
  {
   "cell_type": "code",
   "execution_count": null,
   "id": "b5176cd6-7bae-4fb7-b86b-2867a15c7e0f",
   "metadata": {},
   "outputs": [],
   "source": []
  }
 ],
 "metadata": {
  "kernelspec": {
   "display_name": "Python 3 (ipykernel)",
   "language": "python",
   "name": "python3"
  },
  "language_info": {
   "codemirror_mode": {
    "name": "ipython",
    "version": 3
   },
   "file_extension": ".py",
   "mimetype": "text/x-python",
   "name": "python",
   "nbconvert_exporter": "python",
   "pygments_lexer": "ipython3",
   "version": "3.11.7"
  }
 },
 "nbformat": 4,
 "nbformat_minor": 5
}
