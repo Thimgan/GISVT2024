{
 "cells": [
  {
   "cell_type": "markdown",
   "id": "92d9f21a-66b4-4d1e-92a7-873554f87271",
   "metadata": {},
   "source": [
    "# Introduction to Python Workshop"
   ]
  },
  {
   "cell_type": "code",
   "execution_count": 1,
   "id": "60b3fbbc-5ba6-45f1-84e0-7879df009c3f",
   "metadata": {},
   "outputs": [
    {
     "name": "stdout",
     "output_type": "stream",
     "text": [
      "Brad\n",
      "Brad\n"
     ]
    },
    {
     "data": {
      "text/plain": [
       "'GIS ValTech 2024'"
      ]
     },
     "execution_count": 1,
     "metadata": {},
     "output_type": "execute_result"
    }
   ],
   "source": [
    "# Declaring string variables\n",
    "myName = \"Brad\"\n",
    "conference = 'GIS ValTech 2024'\n",
    "print(myName)\n",
    "print(myName)\n",
    "conference"
   ]
  },
  {
   "cell_type": "code",
   "execution_count": 4,
   "id": "bf20bdd6-f915-4de0-b69d-57bb5894bf56",
   "metadata": {},
   "outputs": [
    {
     "name": "stdout",
     "output_type": "stream",
     "text": [
      "i * 10 = 100\n",
      "i * 10 = 100\n",
      "i * 10 = 100\n"
     ]
    }
   ],
   "source": [
    "# Declaring numeric variables\n",
    "i = 10\n",
    "print(\"i * 10 = {0}\".format(i * 10))\n",
    "print(\"i * 10 = \" + str(i * 10))\n",
    "#print(\"i * 10 = \" + (i * 10)) # Invalid missing cast\n",
    "print(\"i * 10 =\", i * 10)"
   ]
  },
  {
   "cell_type": "markdown",
   "id": "3aef9043-a3a5-44b7-833f-523a03199943",
   "metadata": {},
   "source": [
    "## Storing collections of data (4 standard options)"
   ]
  },
  {
   "cell_type": "code",
   "execution_count": 6,
   "id": "b983f0e8-2ab8-4a0e-8def-68c2fcc1bee6",
   "metadata": {},
   "outputs": [
    {
     "name": "stdout",
     "output_type": "stream",
     "text": [
      "[1, 2, 3]\n",
      "1\n"
     ]
    }
   ],
   "source": [
    "#Lists are used to store multiple items in a single variable.\n",
    "#List items are ordered, changeable, indexed, and allow duplicate values.\n",
    "\n",
    "my_list = [1, 2, 3]\n",
    "print(my_list)\n",
    "print(my_list[0])"
   ]
  },
  {
   "cell_type": "code",
   "execution_count": 7,
   "id": "f64010ba-9896-4405-aac5-76f7b0c17720",
   "metadata": {
    "scrolled": true
   },
   "outputs": [
    {
     "name": "stdout",
     "output_type": "stream",
     "text": [
      "1\n",
      "2\n",
      "3\n"
     ]
    }
   ],
   "source": [
    "#We can loop over the contents of a list\n",
    "for x in my_list:\n",
    "    print(x)"
   ]
  },
  {
   "cell_type": "code",
   "execution_count": 8,
   "id": "e0d8e432-a481-4e21-9c6f-1e204974f36e",
   "metadata": {},
   "outputs": [
    {
     "name": "stdout",
     "output_type": "stream",
     "text": [
      "[1, 2, 3, 4]\n"
     ]
    }
   ],
   "source": [
    "#we can add to a list with append\n",
    "my_list.append(4)\n",
    "print(my_list)"
   ]
  },
  {
   "cell_type": "code",
   "execution_count": 11,
   "id": "c2870489-0a11-42cd-b040-03f09b7248fd",
   "metadata": {},
   "outputs": [
    {
     "name": "stdout",
     "output_type": "stream",
     "text": [
      "[4, 4, 3, 4]\n"
     ]
    }
   ],
   "source": [
    "my_list[1] = 4\n",
    "print(my_list)"
   ]
  },
  {
   "cell_type": "code",
   "execution_count": 12,
   "id": "fb49323c-527a-4476-9a20-69911ff48a64",
   "metadata": {},
   "outputs": [
    {
     "name": "stdout",
     "output_type": "stream",
     "text": [
      "[400, 400, 300, 400]\n"
     ]
    }
   ],
   "source": [
    "#List comprehension offers a shorter syntax when you want to create a new list \n",
    "#based on the values of an existing list.\n",
    "y = [x * 100 for x in my_list]\n",
    "print(y)"
   ]
  },
  {
   "cell_type": "code",
   "execution_count": 13,
   "id": "96e2ea22-5fc2-47f8-9704-14ded251d574",
   "metadata": {},
   "outputs": [
    {
     "name": "stdout",
     "output_type": "stream",
     "text": [
      "('a', 'b', 'a')\n"
     ]
    }
   ],
   "source": [
    "#Tuple items are ordered, unchangeable, indexed, and allow duplicate values.\n",
    "my_tuple = ('a', 'b', 'a')\n",
    "print(my_tuple)"
   ]
  },
  {
   "cell_type": "code",
   "execution_count": null,
   "id": "723d3f36-5626-4e42-883d-d959d0524c9a",
   "metadata": {},
   "outputs": [],
   "source": [
    "my_tuple.append('c')"
   ]
  },
  {
   "cell_type": "code",
   "execution_count": 14,
   "id": "c4f96fe5-2532-4050-a0cc-cc6abc897e66",
   "metadata": {},
   "outputs": [
    {
     "name": "stdout",
     "output_type": "stream",
     "text": [
      "b\n"
     ]
    }
   ],
   "source": [
    "print(my_tuple[1])"
   ]
  },
  {
   "cell_type": "code",
   "execution_count": 15,
   "id": "5366e763-3fac-4143-ba34-4c52442d55a9",
   "metadata": {},
   "outputs": [
    {
     "ename": "TypeError",
     "evalue": "'tuple' object does not support item assignment",
     "output_type": "error",
     "traceback": [
      "\u001b[1;31m---------------------------------------------------------------------------\u001b[0m",
      "\u001b[1;31mTypeError\u001b[0m                                 Traceback (most recent call last)",
      "Cell \u001b[1;32mIn[15], line 1\u001b[0m\n\u001b[1;32m----> 1\u001b[0m my_tuple[\u001b[38;5;241m1\u001b[39m] \u001b[38;5;241m=\u001b[39m \u001b[38;5;124m'\u001b[39m\u001b[38;5;124mG\u001b[39m\u001b[38;5;124m'\u001b[39m\n",
      "\u001b[1;31mTypeError\u001b[0m: 'tuple' object does not support item assignment"
     ]
    }
   ],
   "source": [
    "my_tuple[1] = 'G'"
   ]
  },
  {
   "cell_type": "code",
   "execution_count": 16,
   "id": "5d4f89a6-167a-445e-9536-e4195b60aa2c",
   "metadata": {},
   "outputs": [
    {
     "name": "stdout",
     "output_type": "stream",
     "text": [
      "{'apple', 'banana', 'cherry'}\n"
     ]
    }
   ],
   "source": [
    "#Set items are unordered, unchangeable, non indexed, and do not allow duplicate values.\n",
    "#Note: Set items are unchangeable, but you can remove items and add new items.\n",
    "thisset = {\"apple\", \"banana\", \"cherry\"}\n",
    "print(thisset)"
   ]
  },
  {
   "cell_type": "code",
   "execution_count": 17,
   "id": "5ef14687-beb4-4ef7-937b-307b053fca2f",
   "metadata": {},
   "outputs": [
    {
     "name": "stdout",
     "output_type": "stream",
     "text": [
      "apple\n",
      "banana\n",
      "cherry\n"
     ]
    }
   ],
   "source": [
    "for f in thisset:\n",
    "    print(f)"
   ]
  },
  {
   "cell_type": "code",
   "execution_count": 18,
   "id": "dd334ba5-b925-49d0-903e-0f1988b7087b",
   "metadata": {},
   "outputs": [
    {
     "ename": "TypeError",
     "evalue": "'set' object is not subscriptable",
     "output_type": "error",
     "traceback": [
      "\u001b[1;31m---------------------------------------------------------------------------\u001b[0m",
      "\u001b[1;31mTypeError\u001b[0m                                 Traceback (most recent call last)",
      "Cell \u001b[1;32mIn[18], line 1\u001b[0m\n\u001b[1;32m----> 1\u001b[0m \u001b[38;5;28mprint\u001b[39m(thisset[\u001b[38;5;241m1\u001b[39m])\n",
      "\u001b[1;31mTypeError\u001b[0m: 'set' object is not subscriptable"
     ]
    }
   ],
   "source": [
    "print(thisset[1])"
   ]
  },
  {
   "cell_type": "code",
   "execution_count": 19,
   "id": "a8586b69-f91e-45fd-a109-cd6c09a7e675",
   "metadata": {},
   "outputs": [
    {
     "name": "stdout",
     "output_type": "stream",
     "text": [
      "{'grape', 'apple', 'banana', 'cherry'}\n"
     ]
    }
   ],
   "source": [
    "thisset.add(\"grape\")\n",
    "print(thisset)"
   ]
  },
  {
   "cell_type": "code",
   "execution_count": 20,
   "id": "3bfe3070-1e3b-49e1-b91c-ded70376e242",
   "metadata": {},
   "outputs": [
    {
     "name": "stdout",
     "output_type": "stream",
     "text": [
      "{'grape', 'apple', 'banana', 'cherry'}\n"
     ]
    }
   ],
   "source": [
    "thisset.add(\"apple\")\n",
    "print(thisset)"
   ]
  },
  {
   "cell_type": "code",
   "execution_count": 21,
   "id": "cae2363d-c7ed-48e5-b9b6-cd330b272f62",
   "metadata": {},
   "outputs": [
    {
     "name": "stdout",
     "output_type": "stream",
     "text": [
      "{'grape', 'apple', 'cherry'}\n"
     ]
    }
   ],
   "source": [
    "thisset.remove(\"banana\")\n",
    "print(thisset)"
   ]
  },
  {
   "cell_type": "code",
   "execution_count": 22,
   "id": "5e9dbb9c-8f0f-42e1-ab84-a17fc5d5d44e",
   "metadata": {},
   "outputs": [
    {
     "name": "stdout",
     "output_type": "stream",
     "text": [
      "{'brand': 'Ford', 'model': 'Mustang', 'year': 1964}\n"
     ]
    }
   ],
   "source": [
    "#Dictionaries are used to store data values in key:value pairs.\n",
    "#A dictionary is a collection which is ordered*, changeable and do not allow duplicates.\n",
    "car = {\n",
    "    \"brand\": \"Ford\",\n",
    "    \"model\": \"Mustang\",\n",
    "    \"year\": 1964\n",
    "}\n",
    "print(car)"
   ]
  },
  {
   "cell_type": "code",
   "execution_count": 23,
   "id": "823b5dd7-1daf-41a1-b373-cced73eebd84",
   "metadata": {},
   "outputs": [
    {
     "name": "stdout",
     "output_type": "stream",
     "text": [
      "Mustang\n"
     ]
    }
   ],
   "source": [
    "print(car['model'])"
   ]
  },
  {
   "cell_type": "code",
   "execution_count": 24,
   "id": "fc0b4949-b390-47e1-9888-b276912740d1",
   "metadata": {},
   "outputs": [
    {
     "name": "stdout",
     "output_type": "stream",
     "text": [
      "brand -> Ford\n",
      "model -> Mustang\n",
      "year -> 1964\n"
     ]
    }
   ],
   "source": [
    "for key, value in car.items():\n",
    "...     print(key, \"->\", value)"
   ]
  },
  {
   "cell_type": "code",
   "execution_count": 25,
   "id": "748f3188-4650-413a-bdb8-cfd3d7757363",
   "metadata": {},
   "outputs": [
    {
     "name": "stdout",
     "output_type": "stream",
     "text": [
      "100\n",
      "600\n",
      "1000\n"
     ]
    }
   ],
   "source": [
    "#Functions allow us to reuse code without having to rewrite it\n",
    "def Add100(val):\n",
    "    return val + 100\n",
    "\n",
    "print(Add100(0))\n",
    "print(Add100(500))\n",
    "print(Add100(900))"
   ]
  },
  {
   "cell_type": "code",
   "execution_count": 26,
   "id": "8fc778a4-0309-4d65-a78b-863b34bf2b07",
   "metadata": {},
   "outputs": [
    {
     "name": "stdout",
     "output_type": "stream",
     "text": [
      "[4, 4, 3, 4]\n",
      "[104, 104, 103, 104]\n"
     ]
    }
   ],
   "source": [
    "#we can also us a function within list comprehension\n",
    "print(my_list)\n",
    "newList = [Add100(x) for x in my_list]\n",
    "print(newList)"
   ]
  },
  {
   "cell_type": "code",
   "execution_count": 27,
   "id": "6fcc2e7a-622a-4b38-a223-e6f75a05c591",
   "metadata": {},
   "outputs": [
    {
     "name": "stdout",
     "output_type": "stream",
     "text": [
      "[104, 104, 103, 104]\n"
     ]
    }
   ],
   "source": [
    "#lambda is a keyword in Python for defining the anonymous function.\n",
    "anotherList = [(lambda x: x + 100)(x) for x in my_list]\n",
    "print(anotherList)\n"
   ]
  },
  {
   "cell_type": "code",
   "execution_count": 28,
   "id": "672ac504-ee67-4617-94b7-36aa3a6b0e14",
   "metadata": {},
   "outputs": [
    {
     "name": "stdout",
     "output_type": "stream",
     "text": [
      "1\n",
      "2\n",
      "3\n",
      "4\n",
      "5\n",
      "6\n",
      "7\n",
      "8\n",
      "9\n",
      "10\n",
      "11\n",
      "12\n",
      "13\n",
      "14\n",
      "15\n",
      "16\n",
      "17\n",
      "18\n",
      "19\n"
     ]
    }
   ],
   "source": [
    "# Range can be used to generate a list\n",
    "for i in range(1, 20):\n",
    "    print(i)"
   ]
  },
  {
   "cell_type": "markdown",
   "id": "80eb9df4-cd8b-4197-be7d-eab7ba93545e",
   "metadata": {},
   "source": [
    "## Python Packages"
   ]
  },
  {
   "cell_type": "code",
   "execution_count": 30,
   "id": "9b2df42c-7f54-478b-b608-c87239c44299",
   "metadata": {},
   "outputs": [
    {
     "name": "stdout",
     "output_type": "stream",
     "text": [
      "69\n"
     ]
    }
   ],
   "source": [
    "import random as rnd\n",
    "print(rnd.randint(1, 100))"
   ]
  },
  {
   "cell_type": "code",
   "execution_count": 32,
   "id": "a675c992-9845-434d-9906-7356191bf454",
   "metadata": {},
   "outputs": [
    {
     "name": "stdout",
     "output_type": "stream",
     "text": [
      "0.26177079939450876\n"
     ]
    }
   ],
   "source": [
    "#range 0.0 <= X < 1.0\n",
    "print(rnd.random())"
   ]
  },
  {
   "cell_type": "code",
   "execution_count": 33,
   "id": "dc979dd2-9167-4b26-9d36-44e8aefe5fe4",
   "metadata": {},
   "outputs": [
    {
     "data": {
      "text/plain": [
       "'2024-04-11 00:00:00'"
      ]
     },
     "execution_count": 33,
     "metadata": {},
     "output_type": "execute_result"
    }
   ],
   "source": [
    "from datetime import date, timedelta\n",
    "d = date.today()\n",
    "'{:%Y-%m-%d %H:%M:%S}'.format(d)"
   ]
  },
  {
   "cell_type": "code",
   "execution_count": 34,
   "id": "b5ce065f-f32c-4a60-ba32-3fab48058dc4",
   "metadata": {},
   "outputs": [
    {
     "name": "stdout",
     "output_type": "stream",
     "text": [
      "2024-05-11\n"
     ]
    }
   ],
   "source": [
    "print(d + timedelta(days=30))"
   ]
  },
  {
   "cell_type": "code",
   "execution_count": null,
   "id": "7bf551f7-3666-41e0-bb33-dc9fdf73eef5",
   "metadata": {},
   "outputs": [],
   "source": []
  }
 ],
 "metadata": {
  "kernelspec": {
   "display_name": "Python 3 (ipykernel)",
   "language": "python",
   "name": "python3"
  },
  "language_info": {
   "codemirror_mode": {
    "name": "ipython",
    "version": 3
   },
   "file_extension": ".py",
   "mimetype": "text/x-python",
   "name": "python",
   "nbconvert_exporter": "python",
   "pygments_lexer": "ipython3",
   "version": "3.11.7"
  }
 },
 "nbformat": 4,
 "nbformat_minor": 5
}
