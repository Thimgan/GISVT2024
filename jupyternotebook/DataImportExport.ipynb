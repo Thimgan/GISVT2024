{
 "cells": [
  {
   "cell_type": "code",
   "execution_count": null,
   "id": "5fc64134-dabd-4679-ab7a-02f3ea8192eb",
   "metadata": {},
   "outputs": [],
   "source": [
    "import pandas as pd\n",
    "import numpy as np\n",
    "import pyreadstat  ##conda install conda-forge::pyreadstat\n",
    "import pyodbc\n",
    "import sqlalchemy as sa\n",
    "from sqlalchemy.engine import URL\n"
   ]
  },
  {
   "cell_type": "code",
   "execution_count": null,
   "id": "fe57eedf-5322-4063-80d6-52092971aa6c",
   "metadata": {},
   "outputs": [],
   "source": [
    "server = 'gisvaltech2024.c5umke60egby.us-east-1.rds.amazonaws.com' \n",
    "database = 'Workshop' \n",
    "username = 'tester' \n",
    "password = 'gisvaltech' \n",
    "\n",
    "connection_string = \"DRIVER={SQL Server};SERVER=%s;DATABASE=%s;UID=%s;PWD=%s\" % (server, database, username, password)"
   ]
  },
  {
   "cell_type": "code",
   "execution_count": null,
   "id": "a068e0d3-add0-4bec-a022-5e5de5fff9a1",
   "metadata": {},
   "outputs": [],
   "source": [
    "## Extract data from SQL database using pyodbc\n",
    "\n",
    "cnxn = pyodbc.connect(connection_string)\n",
    "cursor = cnxn.cursor()\n",
    "query = \"SELECT * FROM SampleData;\"\n",
    "df = pd.read_sql(query, cnxn)\n",
    "df.sample(5)\n"
   ]
  },
  {
   "cell_type": "code",
   "execution_count": null,
   "id": "2fbc3357-eb87-4525-873a-cdc2f689d842",
   "metadata": {},
   "outputs": [],
   "source": [
    "## Extract data from SQL database using sqlalchemy\n",
    "\n",
    "connection_url = URL.create(\"mssql+pyodbc\", query={\"odbc_connect\": connection_string})\n",
    "\n",
    "from sqlalchemy import create_engine\n",
    "engine = create_engine(connection_url)\n",
    "\n",
    "with engine.begin() as conn:\n",
    "    data = pd.read_sql_query(sa.text(\"SELECT * FROM SampleData;\"), conn)\n",
    "\n",
    "data.sample(5)"
   ]
  },
  {
   "cell_type": "code",
   "execution_count": null,
   "id": "cc4526c6-eeb1-4537-aa2a-bb7a684756b5",
   "metadata": {},
   "outputs": [],
   "source": [
    "## Read SPSS sav file using read_spss\n",
    "\n",
    "data = pd.read_spss('..\\\\SPSS\\\\Data\\\\GISValTechSampleData.sav')\n",
    "data.head()\n",
    "data['ParcelId'] = data['ParcelId'].astype(int)\n",
    "data['SaleDate'] = pd.to_datetime(data['SaleDate'])\n",
    "data['SalesPrice'] = data['SalesPrice'].astype(int)\n",
    "data['Sqft'] = data['Sqft'].astype(int)\n",
    "data['LandSize'] = data['LandSize'].astype(int)\n",
    "data['Quality'] = pd.Categorical(data['Quality'], ordered = True, categories = [\n",
    "    'Poor', 'BelowAverage', 'Average', 'AboveAverage', 'Superior'])\n",
    "data['GarageSize'] = data['GarageSize'].astype(int)\n",
    "data['EffAge'] = data['EffAge'].astype(int)\n",
    "data['NBHD'] = pd.Categorical(data['NBHD'].astype(int))\n",
    "\n",
    "data.set_index('ParcelId', inplace = True)\n",
    "data.head()"
   ]
  },
  {
   "cell_type": "code",
   "execution_count": null,
   "id": "9196a728-8d9b-4e4f-be17-a5a9353ce5d1",
   "metadata": {},
   "outputs": [],
   "source": [
    "## Read pickle file\n",
    "\n",
    "data = pd.read_pickle('..\\\\datafiles\\\\SampleData.pkl')\n",
    "data.sample(5)"
   ]
  },
  {
   "cell_type": "code",
   "execution_count": null,
   "id": "7423ffb4-7cfb-4572-bd30-a20e86eca320",
   "metadata": {},
   "outputs": [],
   "source": [
    "## Read excel file\n",
    "\n",
    "data = pd.read_excel('..\\\\datafiles\\\\SampleData.xlsx')\n",
    "data.sample(5)"
   ]
  },
  {
   "cell_type": "code",
   "execution_count": null,
   "id": "60fc5c88-ee11-458b-966b-71f51084cbbd",
   "metadata": {},
   "outputs": [],
   "source": [
    "## Read csv file\n",
    "data = pd.read_csv('..\\\\datafiles\\\\SampleData.csv')\n",
    "data.sample(5)"
   ]
  },
  {
   "cell_type": "code",
   "execution_count": null,
   "id": "70b84c2f-b2fb-402f-9d72-edf84cab79e3",
   "metadata": {},
   "outputs": [],
   "source": [
    "## Export data to SQL using pyodbc\n",
    "cnxn = pyodbc.connect(connection_string)\n",
    "cursor = cnxn.cursor()\n",
    "cursor.execute('''\n",
    "    IF OBJECT_ID (N'dbo.pyodbcTestData', N'U') IS NULL  \n",
    "        CREATE TABLE dbo.pyodbcTestData(\n",
    "            ParcelId INT,\n",
    "            SaleDate DATETIME,\n",
    "            SalesPrice INT\n",
    "        );\n",
    "''')\n",
    "for index, row in data.loc[:5].iterrows():\n",
    "    cursor.execute(\"INSERT INTO pyodbcTestData (ParcelId, SaleDate, SalesPrice) values (?, ?, ?)\", row['ParcelId'], row['SaleDate'], row['SalesPrice'])\n",
    "cnxn.commit()\n",
    "cursor.close()\n"
   ]
  },
  {
   "cell_type": "code",
   "execution_count": null,
   "id": "0bf43af8-d204-4662-893b-8dddaaad7472",
   "metadata": {},
   "outputs": [],
   "source": [
    "## Export data to SQL using sqlalchemy\n",
    "data.to_sql(name='alchemyTestData', con=engine)"
   ]
  },
  {
   "cell_type": "code",
   "execution_count": null,
   "id": "ba73b85c-4efb-47fc-9b33-3d3078f81822",
   "metadata": {},
   "outputs": [],
   "source": [
    "## Export data to Excel\n",
    "data.to_excel('..\\\\datafiles\\\\ExcelExport.xlsx')"
   ]
  },
  {
   "cell_type": "code",
   "execution_count": null,
   "id": "48e27458-a596-4294-a17c-541d944c8b4a",
   "metadata": {},
   "outputs": [],
   "source": [
    "## Export data to csv\n",
    "data.to_csv('..\\\\datafiles\\\\CsvExport.csv')"
   ]
  },
  {
   "cell_type": "code",
   "execution_count": null,
   "id": "f2db2ef2-65d0-43a7-aae8-995716e5fa5d",
   "metadata": {},
   "outputs": [],
   "source": [
    "## Export data to a pickle file\n",
    "data.to_pickle('..\\\\datafiles\\\\PickleExport.pkl')"
   ]
  },
  {
   "cell_type": "code",
   "execution_count": null,
   "id": "2bfc6f5e-6461-43a6-a90c-f2b681bbfb29",
   "metadata": {},
   "outputs": [],
   "source": []
  }
 ],
 "metadata": {
  "kernelspec": {
   "display_name": "Python 3 (ipykernel)",
   "language": "python",
   "name": "python3"
  },
  "language_info": {
   "codemirror_mode": {
    "name": "ipython",
    "version": 3
   },
   "file_extension": ".py",
   "mimetype": "text/x-python",
   "name": "python",
   "nbconvert_exporter": "python",
   "pygments_lexer": "ipython3",
   "version": "3.11.7"
  }
 },
 "nbformat": 4,
 "nbformat_minor": 5
}
